{
 "cells": [
  {
   "cell_type": "code",
   "execution_count": 1,
   "id": "02e1ea25",
   "metadata": {
    "_cell_guid": "b1076dfc-b9ad-4769-8c92-a6c4dae69d19",
    "_uuid": "8f2839f25d086af736a60e9eeb907d3b93b6e0e5",
    "execution": {
     "iopub.execute_input": "2022-05-27T10:51:01.450528Z",
     "iopub.status.busy": "2022-05-27T10:51:01.450220Z",
     "iopub.status.idle": "2022-05-27T10:51:07.441206Z",
     "shell.execute_reply": "2022-05-27T10:51:07.440321Z"
    },
    "papermill": {
     "duration": 6.004304,
     "end_time": "2022-05-27T10:51:07.443526",
     "exception": false,
     "start_time": "2022-05-27T10:51:01.439222",
     "status": "completed"
    },
    "tags": []
   },
   "outputs": [],
   "source": [
    "from tensorflow.keras import layers, models, backend, utils, metrics\n",
    "from tensorflow.keras.preprocessing.image import ImageDataGenerator\n",
    "from wand.image import Image\n",
    "import matplotlib.pyplot as plt\n",
    "import matplotlib.image as mpimg\n",
    "import os"
   ]
  },
  {
   "cell_type": "code",
   "execution_count": 2,
   "id": "614e1a76",
   "metadata": {
    "execution": {
     "iopub.execute_input": "2022-05-27T10:51:07.462630Z",
     "iopub.status.busy": "2022-05-27T10:51:07.461978Z",
     "iopub.status.idle": "2022-05-27T10:51:07.468040Z",
     "shell.execute_reply": "2022-05-27T10:51:07.467429Z"
    },
    "papermill": {
     "duration": 0.0174,
     "end_time": "2022-05-27T10:51:07.469610",
     "exception": false,
     "start_time": "2022-05-27T10:51:07.452210",
     "status": "completed"
    },
    "tags": []
   },
   "outputs": [],
   "source": [
    "os.mkdir('./output')\n",
    "os.mkdir('./output/valid')\n",
    "os.mkdir('./output/valid/fake')\n",
    "os.mkdir('./output/valid/real')\n",
    "os.mkdir('./output/train')\n",
    "os.mkdir('./output/train/fake')\n",
    "os.mkdir('./output/train/real')\n",
    "os.mkdir('./output/test')\n",
    "os.mkdir('./output/test/fake')\n",
    "os.mkdir('./output/test/real')\n",
    "\n",
    "# import shutil\n",
    "\n",
    "# dir_path = './output'\n",
    "\n",
    "# try:\n",
    "#     shutil.rmtree(dir_path)\n",
    "# except OSError as e:\n",
    "#     print(\"Error: %s : %s\" % (dir_path, e.strerror))"
   ]
  },
  {
   "cell_type": "code",
   "execution_count": 3,
   "id": "517371e7",
   "metadata": {
    "execution": {
     "iopub.execute_input": "2022-05-27T10:51:07.487717Z",
     "iopub.status.busy": "2022-05-27T10:51:07.487126Z",
     "iopub.status.idle": "2022-05-27T10:51:07.490367Z",
     "shell.execute_reply": "2022-05-27T10:51:07.489741Z"
    },
    "papermill": {
     "duration": 0.013901,
     "end_time": "2022-05-27T10:51:07.491903",
     "exception": false,
     "start_time": "2022-05-27T10:51:07.478002",
     "status": "completed"
    },
    "tags": []
   },
   "outputs": [],
   "source": [
    "\n",
    "# img = mpimg.imread('./output/valid/fake/WCH829WC6Y.jpg')\n",
    "# imgplot = plt.imshow(img)\n",
    "# plt.show()"
   ]
  },
  {
   "cell_type": "code",
   "execution_count": 4,
   "id": "b756cf80",
   "metadata": {
    "execution": {
     "iopub.execute_input": "2022-05-27T10:51:07.509910Z",
     "iopub.status.busy": "2022-05-27T10:51:07.509723Z",
     "iopub.status.idle": "2022-05-27T10:56:27.080369Z",
     "shell.execute_reply": "2022-05-27T10:56:27.079639Z"
    },
    "papermill": {
     "duration": 319.582149,
     "end_time": "2022-05-27T10:56:27.082658",
     "exception": false,
     "start_time": "2022-05-27T10:51:07.500509",
     "status": "completed"
    },
    "tags": []
   },
   "outputs": [],
   "source": [
    "DIR_PREFIX='../input/evendata/input/real_vs_fake/real-vs-fake/'\n",
    "\n",
    "def convert_to_edge(dir_name='train'):\n",
    "    i = 0\n",
    "    for filename in os.listdir(DIR_PREFIX+dir_name):\n",
    "        f = os.path.join(DIR_PREFIX+dir_name, filename)\n",
    "        # checking if it is a file\n",
    "        if os.path.isdir(f):\n",
    "            convert_to_edge(dir_name+'/'+filename)\n",
    "        else:\n",
    "            i = i+1\n",
    "            with Image(filename = f) as image:\n",
    "                # Clone the image in order to process\n",
    "                with image.clone() as edge:\n",
    "                    edge.transform_colorspace('gray')\n",
    "                    # Invoke edge function\n",
    "                    edge.edge(1.5)\n",
    "                    # Save the image\n",
    "                    edge.save(filename =f.replace(DIR_PREFIX,'./output/'))\n",
    "    \n",
    "convert_to_edge('valid')\n",
    "convert_to_edge('test')\n",
    "convert_to_edge('train')"
   ]
  },
  {
   "cell_type": "code",
   "execution_count": 5,
   "id": "d9b88045",
   "metadata": {
    "execution": {
     "iopub.execute_input": "2022-05-27T10:56:27.101291Z",
     "iopub.status.busy": "2022-05-27T10:56:27.101072Z",
     "iopub.status.idle": "2022-05-27T10:56:27.846609Z",
     "shell.execute_reply": "2022-05-27T10:56:27.845887Z"
    },
    "papermill": {
     "duration": 0.757261,
     "end_time": "2022-05-27T10:56:27.848978",
     "exception": false,
     "start_time": "2022-05-27T10:56:27.091717",
     "status": "completed"
    },
    "tags": []
   },
   "outputs": [
    {
     "name": "stdout",
     "output_type": "stream",
     "text": [
      "Found 3587 images belonging to 2 classes.\n",
      "Found 8000 images belonging to 2 classes.\n",
      "Found 2000 images belonging to 2 classes.\n"
     ]
    },
    {
     "data": {
      "text/plain": [
       "{'fake': 0, 'real': 1}"
      ]
     },
     "execution_count": 5,
     "metadata": {},
     "output_type": "execute_result"
    }
   ],
   "source": [
    "base_path = './output/'\n",
    "image_gen = ImageDataGenerator()\n",
    "\n",
    "test_flow = image_gen.flow_from_directory(\n",
    "    base_path + 'test/',\n",
    "    target_size=(256, 256),\n",
    "    batch_size=64,\n",
    "    class_mode='binary'\n",
    ")\n",
    "\n",
    "train_flow = image_gen.flow_from_directory(\n",
    "    base_path + 'train/',\n",
    "    target_size=(256, 256),\n",
    "    batch_size=64,\n",
    "    class_mode='binary'\n",
    ")\n",
    "\n",
    "valid_flow = image_gen.flow_from_directory(\n",
    "    base_path + 'valid/',\n",
    "    target_size=(256, 256),\n",
    "    batch_size=64,\n",
    "    class_mode='binary'\n",
    ")\n",
    "\n",
    "train_flow.class_indices"
   ]
  },
  {
   "cell_type": "code",
   "execution_count": 6,
   "id": "718be01f",
   "metadata": {
    "execution": {
     "iopub.execute_input": "2022-05-27T10:56:27.869321Z",
     "iopub.status.busy": "2022-05-27T10:56:27.869119Z",
     "iopub.status.idle": "2022-05-27T10:56:30.959714Z",
     "shell.execute_reply": "2022-05-27T10:56:30.958853Z"
    },
    "papermill": {
     "duration": 3.104696,
     "end_time": "2022-05-27T10:56:30.963574",
     "exception": false,
     "start_time": "2022-05-27T10:56:27.858878",
     "status": "completed"
    },
    "tags": []
   },
   "outputs": [
    {
     "name": "stdout",
     "output_type": "stream",
     "text": [
      "Model: \"sequential\"\n",
      "_________________________________________________________________\n",
      "Layer (type)                 Output Shape              Param #   \n",
      "=================================================================\n",
      "conv2d (Conv2D)              (None, 254, 254, 32)      896       \n",
      "_________________________________________________________________\n",
      "max_pooling2d (MaxPooling2D) (None, 127, 127, 32)      0         \n",
      "_________________________________________________________________\n",
      "conv2d_1 (Conv2D)            (None, 125, 125, 64)      18496     \n",
      "_________________________________________________________________\n",
      "max_pooling2d_1 (MaxPooling2 (None, 62, 62, 64)        0         \n",
      "_________________________________________________________________\n",
      "conv2d_2 (Conv2D)            (None, 60, 60, 128)       73856     \n",
      "_________________________________________________________________\n",
      "max_pooling2d_2 (MaxPooling2 (None, 30, 30, 128)       0         \n",
      "_________________________________________________________________\n",
      "conv2d_3 (Conv2D)            (None, 28, 28, 256)       295168    \n",
      "_________________________________________________________________\n",
      "max_pooling2d_3 (MaxPooling2 (None, 14, 14, 256)       0         \n",
      "_________________________________________________________________\n",
      "conv2d_4 (Conv2D)            (None, 12, 12, 256)       590080    \n",
      "_________________________________________________________________\n",
      "max_pooling2d_4 (MaxPooling2 (None, 6, 6, 256)         0         \n",
      "_________________________________________________________________\n",
      "conv2d_5 (Conv2D)            (None, 4, 4, 512)         1180160   \n",
      "_________________________________________________________________\n",
      "max_pooling2d_5 (MaxPooling2 (None, 2, 2, 512)         0         \n",
      "_________________________________________________________________\n",
      "flatten (Flatten)            (None, 2048)              0         \n",
      "_________________________________________________________________\n",
      "dense (Dense)                (None, 512)               1049088   \n",
      "_________________________________________________________________\n",
      "dense_1 (Dense)              (None, 1)                 513       \n",
      "=================================================================\n",
      "Total params: 3,208,257\n",
      "Trainable params: 3,208,257\n",
      "Non-trainable params: 0\n",
      "_________________________________________________________________\n"
     ]
    },
    {
     "name": "stderr",
     "output_type": "stream",
     "text": [
      "2022-05-27 10:56:27.967673: I tensorflow/stream_executor/cuda/cuda_gpu_executor.cc:937] successful NUMA node read from SysFS had negative value (-1), but there must be at least one NUMA node, so returning NUMA node zero\n",
      "2022-05-27 10:56:28.115976: I tensorflow/stream_executor/cuda/cuda_gpu_executor.cc:937] successful NUMA node read from SysFS had negative value (-1), but there must be at least one NUMA node, so returning NUMA node zero\n",
      "2022-05-27 10:56:28.116728: I tensorflow/stream_executor/cuda/cuda_gpu_executor.cc:937] successful NUMA node read from SysFS had negative value (-1), but there must be at least one NUMA node, so returning NUMA node zero\n",
      "2022-05-27 10:56:28.118006: I tensorflow/core/platform/cpu_feature_guard.cc:142] This TensorFlow binary is optimized with oneAPI Deep Neural Network Library (oneDNN) to use the following CPU instructions in performance-critical operations:  AVX2 AVX512F FMA\n",
      "To enable them in other operations, rebuild TensorFlow with the appropriate compiler flags.\n",
      "2022-05-27 10:56:28.118352: I tensorflow/stream_executor/cuda/cuda_gpu_executor.cc:937] successful NUMA node read from SysFS had negative value (-1), but there must be at least one NUMA node, so returning NUMA node zero\n",
      "2022-05-27 10:56:28.119161: I tensorflow/stream_executor/cuda/cuda_gpu_executor.cc:937] successful NUMA node read from SysFS had negative value (-1), but there must be at least one NUMA node, so returning NUMA node zero\n",
      "2022-05-27 10:56:28.119832: I tensorflow/stream_executor/cuda/cuda_gpu_executor.cc:937] successful NUMA node read from SysFS had negative value (-1), but there must be at least one NUMA node, so returning NUMA node zero\n",
      "2022-05-27 10:56:30.521356: I tensorflow/stream_executor/cuda/cuda_gpu_executor.cc:937] successful NUMA node read from SysFS had negative value (-1), but there must be at least one NUMA node, so returning NUMA node zero\n",
      "2022-05-27 10:56:30.522275: I tensorflow/stream_executor/cuda/cuda_gpu_executor.cc:937] successful NUMA node read from SysFS had negative value (-1), but there must be at least one NUMA node, so returning NUMA node zero\n",
      "2022-05-27 10:56:30.523018: I tensorflow/stream_executor/cuda/cuda_gpu_executor.cc:937] successful NUMA node read from SysFS had negative value (-1), but there must be at least one NUMA node, so returning NUMA node zero\n",
      "2022-05-27 10:56:30.524593: I tensorflow/core/common_runtime/gpu/gpu_device.cc:1510] Created device /job:localhost/replica:0/task:0/device:GPU:0 with 15403 MB memory:  -> device: 0, name: Tesla P100-PCIE-16GB, pci bus id: 0000:00:04.0, compute capability: 6.0\n"
     ]
    }
   ],
   "source": [
    "model = models.Sequential()\n",
    "\n",
    "model.add(\n",
    "    layers.Conv2D(32, (3, 3),activation='relu', input_shape=(256, 256, 3))\n",
    ")\n",
    "\n",
    "model.add(layers.MaxPooling2D((2, 2)))\n",
    "model.add(layers.Conv2D(64, (3, 3), activation='relu'))\n",
    "model.add(layers.MaxPooling2D((2, 2)))\n",
    "model.add(layers.Conv2D(128, (3, 3), activation='relu'))\n",
    "model.add(layers.MaxPooling2D((2, 2)))\n",
    "model.add(layers.Conv2D(256, (3, 3), activation='relu'))\n",
    "model.add(layers.MaxPooling2D((2, 2)))\n",
    "model.add(layers.Conv2D(256, (3, 3), activation='relu'))\n",
    "model.add(layers.MaxPooling2D((2, 2)))\n",
    "model.add(layers.Conv2D(512, (3, 3), activation='relu'))\n",
    "model.add(layers.MaxPooling2D((2, 2)))\n",
    "model.add(layers.Flatten())\n",
    "model.add(layers.Dense(512, activation='relu'))\n",
    "model.add(layers.Dense(1, activation='sigmoid'))\n",
    "model.summary()\n",
    "\n",
    "model.compile(\n",
    "    optimizer = 'adam', \n",
    "    loss = 'binary_crossentropy', \n",
    "    metrics = [\n",
    "        'accuracy'\n",
    "    ]\n",
    ")"
   ]
  },
  {
   "cell_type": "code",
   "execution_count": 7,
   "id": "3ce8fb62",
   "metadata": {
    "execution": {
     "iopub.execute_input": "2022-05-27T10:56:30.986103Z",
     "iopub.status.busy": "2022-05-27T10:56:30.985905Z",
     "iopub.status.idle": "2022-05-27T11:02:10.588877Z",
     "shell.execute_reply": "2022-05-27T11:02:10.588084Z"
    },
    "papermill": {
     "duration": 340.055931,
     "end_time": "2022-05-27T11:02:11.030726",
     "exception": false,
     "start_time": "2022-05-27T10:56:30.974795",
     "status": "completed"
    },
    "tags": []
   },
   "outputs": [
    {
     "name": "stderr",
     "output_type": "stream",
     "text": [
      "2022-05-27 10:56:31.263397: I tensorflow/compiler/mlir/mlir_graph_optimization_pass.cc:185] None of the MLIR Optimization Passes are enabled (registered 2)\n"
     ]
    },
    {
     "name": "stdout",
     "output_type": "stream",
     "text": [
      "Epoch 1/10\n"
     ]
    },
    {
     "name": "stderr",
     "output_type": "stream",
     "text": [
      "2022-05-27 10:56:32.989996: I tensorflow/stream_executor/cuda/cuda_dnn.cc:369] Loaded cuDNN version 8005\n"
     ]
    },
    {
     "name": "stdout",
     "output_type": "stream",
     "text": [
      "125/125 [==============================] - 41s 259ms/step - loss: 3.8541 - accuracy: 0.5251 - val_loss: 0.6791 - val_accuracy: 0.5885\n",
      "Epoch 2/10\n",
      "125/125 [==============================] - 32s 256ms/step - loss: 0.6786 - accuracy: 0.5673 - val_loss: 0.6638 - val_accuracy: 0.5840\n",
      "Epoch 3/10\n",
      "125/125 [==============================] - 32s 256ms/step - loss: 0.6442 - accuracy: 0.6290 - val_loss: 0.6143 - val_accuracy: 0.6495\n",
      "Epoch 4/10\n",
      "125/125 [==============================] - 32s 257ms/step - loss: 0.5711 - accuracy: 0.6954 - val_loss: 0.5489 - val_accuracy: 0.7155\n",
      "Epoch 5/10\n",
      "125/125 [==============================] - 32s 256ms/step - loss: 0.4959 - accuracy: 0.7613 - val_loss: 0.4955 - val_accuracy: 0.7700\n",
      "Epoch 6/10\n",
      "125/125 [==============================] - 32s 257ms/step - loss: 0.4235 - accuracy: 0.8055 - val_loss: 0.4746 - val_accuracy: 0.7745\n",
      "Epoch 7/10\n",
      "125/125 [==============================] - 32s 258ms/step - loss: 0.3692 - accuracy: 0.8351 - val_loss: 0.4431 - val_accuracy: 0.8085\n",
      "Epoch 8/10\n",
      "125/125 [==============================] - 32s 260ms/step - loss: 0.3101 - accuracy: 0.8652 - val_loss: 0.4035 - val_accuracy: 0.8140\n",
      "Epoch 9/10\n",
      "125/125 [==============================] - 32s 257ms/step - loss: 0.2723 - accuracy: 0.8844 - val_loss: 0.4357 - val_accuracy: 0.8075\n",
      "Epoch 10/10\n",
      "125/125 [==============================] - 32s 257ms/step - loss: 0.2281 - accuracy: 0.9038 - val_loss: 0.4002 - val_accuracy: 0.8320\n"
     ]
    }
   ],
   "source": [
    "train_steps = 8000//64\n",
    "valid_steps = 4000//64\n",
    "\n",
    "hist = model.fit(\n",
    "    train_flow,\n",
    "    epochs=10,\n",
    "    validation_data=valid_flow\n",
    ")"
   ]
  },
  {
   "cell_type": "code",
   "execution_count": 8,
   "id": "608b2a87",
   "metadata": {
    "execution": {
     "iopub.execute_input": "2022-05-27T11:02:11.933264Z",
     "iopub.status.busy": "2022-05-27T11:02:11.932716Z",
     "iopub.status.idle": "2022-05-27T11:02:24.357094Z",
     "shell.execute_reply": "2022-05-27T11:02:24.356419Z"
    },
    "papermill": {
     "duration": 12.873631,
     "end_time": "2022-05-27T11:02:24.358869",
     "exception": false,
     "start_time": "2022-05-27T11:02:11.485238",
     "status": "completed"
    },
    "tags": []
   },
   "outputs": [
    {
     "data": {
      "image/png": "[encoded data removed]",
      "text/plain": [
       "<Figure size 576x360 with 2 Axes>"
      ]
     },
     "metadata": {
      "needs_background": "light"
     },
     "output_type": "display_data"
    }
   ],
   "source": [
    "from sklearn import metrics\n",
    "import seaborn as sns\n",
    "\n",
    "\n",
    "y_pred = model.predict(test_flow)\n",
    "y_test = test_flow.classes\n",
    "\n",
    "plt.figure(figsize = (8,5))\n",
    "sns.heatmap(metrics.confusion_matrix(y_test, y_pred.round()), annot = True,fmt=\"d\",cmap = \"Blues\")\n",
    "plt.show()"
   ]
  },
  {
   "cell_type": "code",
   "execution_count": 9,
   "id": "e2e1d60e",
   "metadata": {
    "execution": {
     "iopub.execute_input": "2022-05-27T11:02:25.239707Z",
     "iopub.status.busy": "2022-05-27T11:02:25.238990Z",
     "iopub.status.idle": "2022-05-27T11:02:25.580807Z",
     "shell.execute_reply": "2022-05-27T11:02:25.580113Z"
    },
    "papermill": {
     "duration": 0.783571,
     "end_time": "2022-05-27T11:02:25.582575",
     "exception": false,
     "start_time": "2022-05-27T11:02:24.799004",
     "status": "completed"
    },
    "tags": []
   },
   "outputs": [
    {
     "data": {
      "image/png": "[encoded data removed]",
      "text/plain": [
       "<Figure size 1080x360 with 2 Axes>"
      ]
     },
     "metadata": {
      "needs_background": "light"
     },
     "output_type": "display_data"
    }
   ],
   "source": [
    "import matplotlib.pyplot as plt\n",
    "import seaborn as sns\n",
    "from sklearn import metrics\n",
    "\n",
    "fig, ax = plt.subplots(1, 2, figsize=(15, 5))\n",
    "ax = ax.ravel()\n",
    "\n",
    "for i, met in enumerate([ \"accuracy\", \"loss\"]):\n",
    "    ax[i].plot(hist.history[met])\n",
    "    ax[i].plot(hist.history[\"val_\" + met])\n",
    "    ax[i].set_title(\"Model {}\".format(met))\n",
    "    ax[i].set_xlabel(\"epochs\")\n",
    "    ax[i].set_ylabel(met)\n",
    "    ax[i].legend([\"train\", \"val\"])"
   ]
  }
 ],
 "metadata": {
  "kernelspec": {
   "display_name": "Python 3",
   "language": "python",
   "name": "python3"
  },
  "language_info": {
   "codemirror_mode": {
    "name": "ipython",
    "version": 3
   },
   "file_extension": ".py",
   "mimetype": "text/x-python",
   "name": "python",
   "nbconvert_exporter": "python",
   "pygments_lexer": "ipython3",
   "version": "3.7.12"
  },
  "papermill": {
   "default_parameters": {},
   "duration": 695.600902,
   "end_time": "2022-05-27T11:02:29.154244",
   "environment_variables": {},
   "exception": null,
   "input_path": "__notebook__.ipynb",
   "output_path": "__notebook__.ipynb",
   "parameters": {},
   "start_time": "2022-05-27T10:50:53.553342",
   "version": "2.3.4"
  }
 },
 "nbformat": 4,
 "nbformat_minor": 5
}
