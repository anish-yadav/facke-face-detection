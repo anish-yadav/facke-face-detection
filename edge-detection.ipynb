{
 "cells": [
  {
   "cell_type": "code",
   "execution_count": 1,
   "id": "dccf013e",
   "metadata": {
    "_cell_guid": "b1076dfc-b9ad-4769-8c92-a6c4dae69d19",
    "_uuid": "8f2839f25d086af736a60e9eeb907d3b93b6e0e5",
    "execution": {
     "iopub.execute_input": "2022-06-17T08:46:10.049793Z",
     "iopub.status.busy": "2022-06-17T08:46:10.049175Z",
     "iopub.status.idle": "2022-06-17T08:46:16.019333Z",
     "shell.execute_reply": "2022-06-17T08:46:16.018449Z"
    },
    "papermill": {
     "duration": 5.983813,
     "end_time": "2022-06-17T08:46:16.021655",
     "exception": false,
     "start_time": "2022-06-17T08:46:10.037842",
     "status": "completed"
    },
    "tags": []
   },
   "outputs": [],
   "source": [
    "from tensorflow.keras import layers, models, backend, utils, metrics, regularizers\n",
    "from tensorflow.keras.preprocessing.image import ImageDataGenerator\n",
    "from wand.image import Image\n",
    "import matplotlib.pyplot as plt\n",
    "import matplotlib.image as mpimg\n",
    "import os"
   ]
  },
  {
   "cell_type": "code",
   "execution_count": 2,
   "id": "86954c7e",
   "metadata": {
    "execution": {
     "iopub.execute_input": "2022-06-17T08:46:16.042168Z",
     "iopub.status.busy": "2022-06-17T08:46:16.041391Z",
     "iopub.status.idle": "2022-06-17T08:46:16.047997Z",
     "shell.execute_reply": "2022-06-17T08:46:16.047396Z"
    },
    "papermill": {
     "duration": 0.018825,
     "end_time": "2022-06-17T08:46:16.049653",
     "exception": false,
     "start_time": "2022-06-17T08:46:16.030828",
     "status": "completed"
    },
    "tags": []
   },
   "outputs": [],
   "source": [
    "os.mkdir('./output')\n",
    "os.mkdir('./output/valid')\n",
    "os.mkdir('./output/valid/fake')\n",
    "os.mkdir('./output/valid/real')\n",
    "os.mkdir('./output/train')\n",
    "os.mkdir('./output/train/fake')\n",
    "os.mkdir('./output/train/real')\n",
    "os.mkdir('./output/test')\n",
    "os.mkdir('./output/test/fake')\n",
    "os.mkdir('./output/test/real')\n",
    "\n",
    "# import shutil\n",
    "\n",
    "# dir_path = './output'\n",
    "\n",
    "# try:\n",
    "#     shutil.rmtree(dir_path)\n",
    "# except OSError as e:\n",
    "#     print(\"Error: %s : %s\" % (dir_path, e.strerror))"
   ]
  },
  {
   "cell_type": "code",
   "execution_count": 3,
   "id": "4e824447",
   "metadata": {
    "execution": {
     "iopub.execute_input": "2022-06-17T08:46:16.067832Z",
     "iopub.status.busy": "2022-06-17T08:46:16.067196Z",
     "iopub.status.idle": "2022-06-17T08:46:16.070574Z",
     "shell.execute_reply": "2022-06-17T08:46:16.069855Z"
    },
    "papermill": {
     "duration": 0.014194,
     "end_time": "2022-06-17T08:46:16.072279",
     "exception": false,
     "start_time": "2022-06-17T08:46:16.058085",
     "status": "completed"
    },
    "tags": []
   },
   "outputs": [],
   "source": [
    "\n",
    "# img = mpimg.imread('./output/valid/fake/WCH829WC6Y.jpg')\n",
    "# imgplot = plt.imshow(img)\n",
    "# plt.show()"
   ]
  },
  {
   "cell_type": "code",
   "execution_count": 4,
   "id": "62983850",
   "metadata": {
    "execution": {
     "iopub.execute_input": "2022-06-17T08:46:16.090758Z",
     "iopub.status.busy": "2022-06-17T08:46:16.090570Z",
     "iopub.status.idle": "2022-06-17T08:50:13.214425Z",
     "shell.execute_reply": "2022-06-17T08:50:13.213690Z"
    },
    "papermill": {
     "duration": 237.135243,
     "end_time": "2022-06-17T08:50:13.216554",
     "exception": false,
     "start_time": "2022-06-17T08:46:16.081311",
     "status": "completed"
    },
    "tags": []
   },
   "outputs": [],
   "source": [
    "DIR_PREFIX='../input/evendata/input/real_vs_fake/real-vs-fake/'\n",
    "\n",
    "def convert_to_edge(dir_name='train'):\n",
    "    i = 0\n",
    "    for filename in os.listdir(DIR_PREFIX+dir_name):\n",
    "        f = os.path.join(DIR_PREFIX+dir_name, filename)\n",
    "        # checking if it is a file\n",
    "        if os.path.isdir(f):\n",
    "            convert_to_edge(dir_name+'/'+filename)\n",
    "        else:\n",
    "            i = i+1\n",
    "            with Image(filename = f) as image:\n",
    "                # Clone the image in order to process\n",
    "                with image.clone() as edge:\n",
    "                    edge.transform_colorspace('gray')\n",
    "                    # Invoke edge function\n",
    "                    edge.edge(1.5)\n",
    "                    # Save the image\n",
    "                    edge.save(filename =f.replace(DIR_PREFIX,'./output/'))\n",
    "    \n",
    "convert_to_edge('valid')\n",
    "convert_to_edge('test')\n",
    "convert_to_edge('train')"
   ]
  },
  {
   "cell_type": "code",
   "execution_count": 5,
   "id": "d5f788c3",
   "metadata": {
    "execution": {
     "iopub.execute_input": "2022-06-17T08:50:13.237859Z",
     "iopub.status.busy": "2022-06-17T08:50:13.237267Z",
     "iopub.status.idle": "2022-06-17T08:50:15.798810Z",
     "shell.execute_reply": "2022-06-17T08:50:15.798162Z"
    },
    "papermill": {
     "duration": 2.574936,
     "end_time": "2022-06-17T08:50:15.800570",
     "exception": false,
     "start_time": "2022-06-17T08:50:13.225634",
     "status": "completed"
    },
    "tags": []
   },
   "outputs": [
    {
     "name": "stdout",
     "output_type": "stream",
     "text": [
      "Found 3587 images belonging to 2 classes.\n",
      "Found 8000 images belonging to 2 classes.\n",
      "Found 2000 images belonging to 2 classes.\n"
     ]
    },
    {
     "data": {
      "text/plain": [
       "{'fake': 0, 'real': 1}"
      ]
     },
     "execution_count": 5,
     "metadata": {},
     "output_type": "execute_result"
    }
   ],
   "source": [
    "base_path = '../input/evendata/input/real_vs_fake/real-vs-fake/'\n",
    "image_gen = ImageDataGenerator()\n",
    "\n",
    "test_flow = image_gen.flow_from_directory(\n",
    "    base_path + 'test/',\n",
    "    target_size=(256, 256),\n",
    "    batch_size=64,\n",
    "    class_mode='binary'\n",
    ")\n",
    "\n",
    "train_flow = image_gen.flow_from_directory(\n",
    "    base_path + 'train/',\n",
    "    target_size=(256, 256),\n",
    "    batch_size=64,\n",
    "    class_mode='binary'\n",
    ")\n",
    "\n",
    "valid_flow = image_gen.flow_from_directory(\n",
    "    base_path + 'valid/',\n",
    "    target_size=(256, 256),\n",
    "    batch_size=64,\n",
    "    class_mode='binary'\n",
    ")\n",
    "\n",
    "train_flow.class_indices"
   ]
  },
  {
   "cell_type": "code",
   "execution_count": 6,
   "id": "dda5bf91",
   "metadata": {
    "execution": {
     "iopub.execute_input": "2022-06-17T08:50:15.821294Z",
     "iopub.status.busy": "2022-06-17T08:50:15.820724Z",
     "iopub.status.idle": "2022-06-17T08:50:18.714162Z",
     "shell.execute_reply": "2022-06-17T08:50:18.713212Z"
    },
    "papermill": {
     "duration": 2.90573,
     "end_time": "2022-06-17T08:50:18.716014",
     "exception": false,
     "start_time": "2022-06-17T08:50:15.810284",
     "status": "completed"
    },
    "tags": []
   },
   "outputs": [
    {
     "name": "stderr",
     "output_type": "stream",
     "text": [
      "2022-06-17 08:50:15.916458: I tensorflow/stream_executor/cuda/cuda_gpu_executor.cc:937] successful NUMA node read from SysFS had negative value (-1), but there must be at least one NUMA node, so returning NUMA node zero\n",
      "2022-06-17 08:50:16.026150: I tensorflow/stream_executor/cuda/cuda_gpu_executor.cc:937] successful NUMA node read from SysFS had negative value (-1), but there must be at least one NUMA node, so returning NUMA node zero\n",
      "2022-06-17 08:50:16.026956: I tensorflow/stream_executor/cuda/cuda_gpu_executor.cc:937] successful NUMA node read from SysFS had negative value (-1), but there must be at least one NUMA node, so returning NUMA node zero\n",
      "2022-06-17 08:50:16.028281: I tensorflow/core/platform/cpu_feature_guard.cc:142] This TensorFlow binary is optimized with oneAPI Deep Neural Network Library (oneDNN) to use the following CPU instructions in performance-critical operations:  AVX2 AVX512F FMA\n",
      "To enable them in other operations, rebuild TensorFlow with the appropriate compiler flags.\n",
      "2022-06-17 08:50:16.028592: I tensorflow/stream_executor/cuda/cuda_gpu_executor.cc:937] successful NUMA node read from SysFS had negative value (-1), but there must be at least one NUMA node, so returning NUMA node zero\n",
      "2022-06-17 08:50:16.029280: I tensorflow/stream_executor/cuda/cuda_gpu_executor.cc:937] successful NUMA node read from SysFS had negative value (-1), but there must be at least one NUMA node, so returning NUMA node zero\n",
      "2022-06-17 08:50:16.029916: I tensorflow/stream_executor/cuda/cuda_gpu_executor.cc:937] successful NUMA node read from SysFS had negative value (-1), but there must be at least one NUMA node, so returning NUMA node zero\n",
      "2022-06-17 08:50:18.160485: I tensorflow/stream_executor/cuda/cuda_gpu_executor.cc:937] successful NUMA node read from SysFS had negative value (-1), but there must be at least one NUMA node, so returning NUMA node zero\n",
      "2022-06-17 08:50:18.161693: I tensorflow/stream_executor/cuda/cuda_gpu_executor.cc:937] successful NUMA node read from SysFS had negative value (-1), but there must be at least one NUMA node, so returning NUMA node zero\n",
      "2022-06-17 08:50:18.162737: I tensorflow/stream_executor/cuda/cuda_gpu_executor.cc:937] successful NUMA node read from SysFS had negative value (-1), but there must be at least one NUMA node, so returning NUMA node zero\n",
      "2022-06-17 08:50:18.164300: I tensorflow/core/common_runtime/gpu/gpu_device.cc:1510] Created device /job:localhost/replica:0/task:0/device:GPU:0 with 15403 MB memory:  -> device: 0, name: Tesla P100-PCIE-16GB, pci bus id: 0000:00:04.0, compute capability: 6.0\n"
     ]
    },
    {
     "name": "stdout",
     "output_type": "stream",
     "text": [
      "Model: \"sequential\"\n",
      "_________________________________________________________________\n",
      "Layer (type)                 Output Shape              Param #   \n",
      "=================================================================\n",
      "conv2d (Conv2D)              (None, 254, 254, 32)      896       \n",
      "_________________________________________________________________\n",
      "max_pooling2d (MaxPooling2D) (None, 127, 127, 32)      0         \n",
      "_________________________________________________________________\n",
      "conv2d_1 (Conv2D)            (None, 125, 125, 64)      18496     \n",
      "_________________________________________________________________\n",
      "max_pooling2d_1 (MaxPooling2 (None, 62, 62, 64)        0         \n",
      "_________________________________________________________________\n",
      "conv2d_2 (Conv2D)            (None, 60, 60, 128)       73856     \n",
      "_________________________________________________________________\n",
      "max_pooling2d_2 (MaxPooling2 (None, 30, 30, 128)       0         \n",
      "_________________________________________________________________\n",
      "conv2d_3 (Conv2D)            (None, 28, 28, 256)       295168    \n",
      "_________________________________________________________________\n",
      "max_pooling2d_3 (MaxPooling2 (None, 14, 14, 256)       0         \n",
      "_________________________________________________________________\n",
      "conv2d_4 (Conv2D)            (None, 12, 12, 256)       590080    \n",
      "_________________________________________________________________\n",
      "max_pooling2d_4 (MaxPooling2 (None, 6, 6, 256)         0         \n",
      "_________________________________________________________________\n",
      "conv2d_5 (Conv2D)            (None, 4, 4, 512)         1180160   \n",
      "_________________________________________________________________\n",
      "max_pooling2d_5 (MaxPooling2 (None, 2, 2, 512)         0         \n",
      "_________________________________________________________________\n",
      "flatten (Flatten)            (None, 2048)              0         \n",
      "_________________________________________________________________\n",
      "dense (Dense)                (None, 512)               1049088   \n",
      "_________________________________________________________________\n",
      "dense_1 (Dense)              (None, 1)                 513       \n",
      "=================================================================\n",
      "Total params: 3,208,257\n",
      "Trainable params: 3,208,257\n",
      "Non-trainable params: 0\n",
      "_________________________________________________________________\n"
     ]
    }
   ],
   "source": [
    "model = models.Sequential()\n",
    "\n",
    "model.add(\n",
    "    layers.Conv2D(32, (3, 3),activation='relu', input_shape=(256, 256, 3))\n",
    ")\n",
    "\n",
    "model.add(layers.MaxPooling2D((2, 2)))\n",
    "model.add(layers.Conv2D(64, (3, 3), activation='relu'))\n",
    "model.add(layers.MaxPooling2D((2, 2)))\n",
    "model.add(layers.Conv2D(128, (3, 3), activation='relu'))\n",
    "model.add(layers.MaxPooling2D((2, 2)))\n",
    "model.add(layers.Conv2D(256, (3, 3), activation='relu'))\n",
    "model.add(layers.MaxPooling2D((2, 2)))\n",
    "model.add(layers.Conv2D(256, (3, 3), activation='relu'))\n",
    "model.add(layers.MaxPooling2D((2, 2)))\n",
    "model.add(layers.Conv2D(512, (3, 3), activation='relu'))\n",
    "model.add(layers.MaxPooling2D((2, 2)))\n",
    "model.add(layers.Flatten())\n",
    "model.add(layers.Dense(512, activation='relu'))\n",
    "model.add(layers.Dense(1, kernel_regularizer=regularizers.l2(0.01), activation='linear'))\n",
    "model.summary()\n",
    "\n",
    "model.compile(\n",
    "    optimizer = 'adam', \n",
    "    loss = 'hinge', \n",
    "    metrics = [\n",
    "        'accuracy'\n",
    "    ]\n",
    ")"
   ]
  },
  {
   "cell_type": "code",
   "execution_count": 7,
   "id": "7e8a19e7",
   "metadata": {
    "execution": {
     "iopub.execute_input": "2022-06-17T08:50:18.740140Z",
     "iopub.status.busy": "2022-06-17T08:50:18.739825Z",
     "iopub.status.idle": "2022-06-17T08:56:57.873591Z",
     "shell.execute_reply": "2022-06-17T08:56:57.872820Z"
    },
    "papermill": {
     "duration": 399.147963,
     "end_time": "2022-06-17T08:56:57.875761",
     "exception": false,
     "start_time": "2022-06-17T08:50:18.727798",
     "status": "completed"
    },
    "tags": []
   },
   "outputs": [
    {
     "name": "stderr",
     "output_type": "stream",
     "text": [
      "2022-06-17 08:50:19.058581: I tensorflow/compiler/mlir/mlir_graph_optimization_pass.cc:185] None of the MLIR Optimization Passes are enabled (registered 2)\n"
     ]
    },
    {
     "name": "stdout",
     "output_type": "stream",
     "text": [
      "Epoch 1/10\n"
     ]
    },
    {
     "name": "stderr",
     "output_type": "stream",
     "text": [
      "2022-06-17 08:50:20.759836: I tensorflow/stream_executor/cuda/cuda_dnn.cc:369] Loaded cuDNN version 8005\n"
     ]
    },
    {
     "name": "stdout",
     "output_type": "stream",
     "text": [
      "125/125 [==============================] - 46s 305ms/step - loss: 2.5532 - accuracy: 0.5203 - val_loss: 0.9927 - val_accuracy: 0.5015\n",
      "Epoch 2/10\n",
      "125/125 [==============================] - 38s 301ms/step - loss: 0.9190 - accuracy: 0.5544 - val_loss: 0.9003 - val_accuracy: 0.5640\n",
      "Epoch 3/10\n",
      "125/125 [==============================] - 38s 304ms/step - loss: 0.8223 - accuracy: 0.6097 - val_loss: 0.8055 - val_accuracy: 0.6210\n",
      "Epoch 4/10\n",
      "125/125 [==============================] - 39s 309ms/step - loss: 0.7061 - accuracy: 0.6820 - val_loss: 0.7620 - val_accuracy: 0.6700\n",
      "Epoch 5/10\n",
      "125/125 [==============================] - 39s 309ms/step - loss: 0.6513 - accuracy: 0.7048 - val_loss: 0.7020 - val_accuracy: 0.6785\n",
      "Epoch 6/10\n",
      "125/125 [==============================] - 39s 311ms/step - loss: 0.5619 - accuracy: 0.7504 - val_loss: 0.6699 - val_accuracy: 0.6950\n",
      "Epoch 7/10\n",
      "125/125 [==============================] - 38s 305ms/step - loss: 0.4904 - accuracy: 0.7862 - val_loss: 0.6642 - val_accuracy: 0.7035\n",
      "Epoch 8/10\n",
      "125/125 [==============================] - 38s 307ms/step - loss: 0.4367 - accuracy: 0.8105 - val_loss: 0.6307 - val_accuracy: 0.7115\n",
      "Epoch 9/10\n",
      "125/125 [==============================] - 38s 307ms/step - loss: 0.3803 - accuracy: 0.8360 - val_loss: 0.5935 - val_accuracy: 0.7550\n",
      "Epoch 10/10\n",
      "125/125 [==============================] - 38s 303ms/step - loss: 0.3222 - accuracy: 0.8620 - val_loss: 0.5893 - val_accuracy: 0.7660\n"
     ]
    }
   ],
   "source": [
    "train_steps = 8000//64\n",
    "valid_steps = 4000//64\n",
    "\n",
    "hist = model.fit(\n",
    "    train_flow,\n",
    "    epochs=10,\n",
    "    validation_data=valid_flow\n",
    ")"
   ]
  },
  {
   "cell_type": "code",
   "execution_count": 8,
   "id": "c229bbfa",
   "metadata": {
    "execution": {
     "iopub.execute_input": "2022-06-17T08:56:58.678345Z",
     "iopub.status.busy": "2022-06-17T08:56:58.678099Z",
     "iopub.status.idle": "2022-06-17T08:57:12.852427Z",
     "shell.execute_reply": "2022-06-17T08:57:12.851421Z"
    },
    "papermill": {
     "duration": 14.577813,
     "end_time": "2022-06-17T08:57:12.854687",
     "exception": false,
     "start_time": "2022-06-17T08:56:58.276874",
     "status": "completed"
    },
    "tags": []
   },
   "outputs": [],
   "source": [
    "from sklearn import metrics\n",
    "import seaborn as sns\n",
    "\n",
    "\n",
    "y_pred = model.predict(test_flow)\n",
    "y_test = test_flow.classes\n",
    "\n",
    "# plt.figure(figsize = (8,5))\n",
    "# sns.heatmap(metrics.confusion_matrix(y_test, y_pred.round()), annot = True,fmt=\"d\",cmap = \"Blues\")\n",
    "# plt.show()"
   ]
  },
  {
   "cell_type": "code",
   "execution_count": 9,
   "id": "2a5ee5f8",
   "metadata": {
    "execution": {
     "iopub.execute_input": "2022-06-17T08:57:13.740495Z",
     "iopub.status.busy": "2022-06-17T08:57:13.739705Z",
     "iopub.status.idle": "2022-06-17T08:57:14.306639Z",
     "shell.execute_reply": "2022-06-17T08:57:14.305930Z"
    },
    "papermill": {
     "duration": 1.009297,
     "end_time": "2022-06-17T08:57:14.308635",
     "exception": false,
     "start_time": "2022-06-17T08:57:13.299338",
     "status": "completed"
    },
    "tags": []
   },
   "outputs": [
    {
     "data": {
      "image/png": "[encoded data removed]",
      "text/plain": [
       "<Figure size 1080x360 with 2 Axes>"
      ]
     },
     "metadata": {
      "needs_background": "light"
     },
     "output_type": "display_data"
    }
   ],
   "source": [
    "import matplotlib.pyplot as plt\n",
    "import seaborn as sns\n",
    "from sklearn import metrics\n",
    "\n",
    "fig, ax = plt.subplots(1, 2, figsize=(15, 5))\n",
    "ax = ax.ravel()\n",
    "\n",
    "for i, met in enumerate([ \"accuracy\", \"loss\"]):\n",
    "    ax[i].plot(hist.history[met])\n",
    "    ax[i].plot(hist.history[\"val_\" + met])\n",
    "    ax[i].set_title(\"Model {}\".format(met))\n",
    "    ax[i].set_xlabel(\"epochs\")\n",
    "    ax[i].set_ylabel(met)\n",
    "    ax[i].legend([\"train\", \"val\"])"
   ]
  }
 ],
 "metadata": {
  "kernelspec": {
   "display_name": "Python 3",
   "language": "python",
   "name": "python3"
  },
  "language_info": {
   "codemirror_mode": {
    "name": "ipython",
    "version": 3
   },
   "file_extension": ".py",
   "mimetype": "text/x-python",
   "name": "python",
   "nbconvert_exporter": "python",
   "pygments_lexer": "ipython3",
   "version": "3.7.12"
  },
  "papermill": {
   "default_parameters": {},
   "duration": 675.696993,
   "end_time": "2022-06-17T08:57:17.752906",
   "environment_variables": {},
   "exception": null,
   "input_path": "__notebook__.ipynb",
   "output_path": "__notebook__.ipynb",
   "parameters": {},
   "start_time": "2022-06-17T08:46:02.055913",
   "version": "2.3.4"
  }
 },
 "nbformat": 4,
 "nbformat_minor": 5
}
