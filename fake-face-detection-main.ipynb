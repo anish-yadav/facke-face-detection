{
 "cells": [
  {
   "cell_type": "code",
   "execution_count": 12,
   "metadata": {
    "_cell_guid": "b1076dfc-b9ad-4769-8c92-a6c4dae69d19",
    "_uuid": "8f2839f25d086af736a60e9eeb907d3b93b6e0e5",
    "tags": []
   },
   "outputs": [],
   "source": [
    "from tensorflow.keras import layers, models, backend, utils, metrics, preprocessing\n",
    "from tensorflow.keras.preprocessing.image import ImageDataGenerator\n",
    "import os\n",
    "import numpy as np"
   ]
  },
  {
   "cell_type": "code",
   "execution_count": 3,
   "metadata": {
    "execution": {
     "iopub.execute_input": "2022-05-13T09:14:57.379469Z",
     "iopub.status.busy": "2022-05-13T09:14:57.377430Z",
     "iopub.status.idle": "2022-05-13T09:14:57.385989Z",
     "shell.execute_reply": "2022-05-13T09:14:57.385322Z",
     "shell.execute_reply.started": "2022-05-13T09:14:57.379402Z"
    }
   },
   "outputs": [],
   "source": [
    "# from kaggle_datasets import KaggleDatasets\n",
    "# GCS_DS_PATH = KaggleDatasets().get_gcs_path()\n",
    "# GCS_DS_PATH\n"
   ]
  },
  {
   "cell_type": "code",
   "execution_count": 4,
   "metadata": {
    "execution": {
     "iopub.execute_input": "2022-05-13T09:14:57.395313Z",
     "iopub.status.busy": "2022-05-13T09:14:57.393335Z",
     "iopub.status.idle": "2022-05-13T09:16:58.873603Z",
     "shell.execute_reply": "2022-05-13T09:16:58.872909Z",
     "shell.execute_reply.started": "2022-05-13T09:14:57.395276Z"
    }
   },
   "outputs": [],
   "source": [
    "from tensorflow.keras import preprocessing\n",
    "base_path = '/kaggle/input/140k-real-and-fake-faces/real_vs_fake/real-vs-fake/'\n",
    "\n",
    "train_flow = preprocessing.image_dataset_from_directory(\n",
    "    base_path + 'train/',\n",
    "    image_size=(224, 224),\n",
    "    batch_size=64,\n",
    "    labels='inferred',\n",
    "    label_mode='binary'\n",
    ")\n",
    "test_flow = preprocessing.image_dataset_from_directory(\n",
    "    base_path + 'test/',\n",
    "    image_size=(224, 224),\n",
    "    batch_size=64,\n",
    "    labels='inferred',\n",
    "    label_mode='binary'\n",
    ")\n",
    "valid_flow = preprocessing.image_dataset_from_directory(\n",
    "    base_path + 'valid/',\n",
    "    image_size=(224, 224),\n",
    "    batch_size=64,\n",
    "    labels='inferred',\n",
    "    label_mode='binary'\n",
    ")\n",
    "train_flow.class_names"
   ]
  },
  {
   "cell_type": "code",
   "execution_count": 5,
   "metadata": {
    "execution": {
     "iopub.execute_input": "2022-05-13T09:16:58.876350Z",
     "iopub.status.busy": "2022-05-13T09:16:58.875884Z",
     "iopub.status.idle": "2022-05-13T09:16:58.881848Z",
     "shell.execute_reply": "2022-05-13T09:16:58.880820Z",
     "shell.execute_reply.started": "2022-05-13T09:16:58.876311Z"
    }
   },
   "outputs": [],
   "source": [
    "# from tensorflow import distribute\n",
    "# # detect and init the TPU\n",
    "# tpu = distribute.cluster_resolver.TPUClusterResolver.connect()\n",
    "\n",
    "# # instantiate a distribution strategy\n",
    "# tpu_strategy = distribute.experimental.TPUStrategy(tpu)"
   ]
  },
  {
   "cell_type": "code",
   "execution_count": 6,
   "metadata": {
    "execution": {
     "iopub.execute_input": "2022-05-13T09:16:58.883333Z",
     "iopub.status.busy": "2022-05-13T09:16:58.883081Z",
     "iopub.status.idle": "2022-05-13T09:16:59.016783Z",
     "shell.execute_reply": "2022-05-13T09:16:59.016132Z",
     "shell.execute_reply.started": "2022-05-13T09:16:58.883296Z"
    }
   },
   "outputs": [],
   "source": [
    "\n",
    "# with tpu_strategy.scope():\n",
    "model = models.Sequential()\n",
    "\n",
    "model.add(\n",
    "    layers.Conv2D(32, (3, 3),activation='relu', input_shape=(224, 224, 3))\n",
    ")\n",
    "\n",
    "model.add(layers.MaxPooling2D((2, 2)))\n",
    "model.add(layers.Conv2D(64, (3, 3), activation='relu'))\n",
    "model.add(layers.MaxPooling2D((2, 2)))\n",
    "model.add(layers.Conv2D(128, (3, 3), activation='relu'))\n",
    "model.add(layers.MaxPooling2D((2, 2)))\n",
    "model.add(layers.Conv2D(256, (3, 3), activation='relu'))\n",
    "model.add(layers.MaxPooling2D((2, 2)))\n",
    "model.add(layers.Conv2D(256, (3, 3), activation='relu'))\n",
    "model.add(layers.MaxPooling2D((2, 2)))\n",
    "model.add(layers.Conv2D(512, (3, 3), activation='relu'))\n",
    "model.add(layers.MaxPooling2D((2, 2)))\n",
    "model.add(layers.Flatten())\n",
    "model.add(layers.Dense(512, activation='relu'))\n",
    "model.add(layers.Dense(1, activation='sigmoid'))\n",
    "model.summary()\n",
    "\n",
    "model.compile(\n",
    "    optimizer = 'adam', \n",
    "    loss = 'binary_crossentropy', \n",
    "    metrics = [\n",
    "        'accuracy'\n",
    "    ]\n",
    ")"
   ]
  },
  {
   "cell_type": "code",
   "execution_count": 7,
   "metadata": {
    "execution": {
     "iopub.execute_input": "2022-05-13T09:16:59.018238Z",
     "iopub.status.busy": "2022-05-13T09:16:59.018007Z",
     "iopub.status.idle": "2022-05-13T10:26:49.190468Z",
     "shell.execute_reply": "2022-05-13T10:26:49.188488Z",
     "shell.execute_reply.started": "2022-05-13T09:16:59.018207Z"
    }
   },
   "outputs": [],
   "source": [
    "train_steps = 100000//64\n",
    "valid_steps = 20000//64\n",
    "\n",
    "hist = model.fit(\n",
    "    train_flow,\n",
    "    epochs=20,\n",
    "    validation_data=valid_flow,\n",
    "    validation_steps=valid_steps\n",
    ")"
   ]
  },
  {
   "cell_type": "code",
   "execution_count": 16,
   "metadata": {
    "execution": {
     "iopub.execute_input": "2022-05-13T10:34:02.286456Z",
     "iopub.status.busy": "2022-05-13T10:34:02.286189Z",
     "iopub.status.idle": "2022-05-13T10:34:04.073727Z",
     "shell.execute_reply": "2022-05-13T10:34:04.072980Z",
     "shell.execute_reply.started": "2022-05-13T10:34:02.286427Z"
    }
   },
   "outputs": [],
   "source": [
    "models.save_model(model,\"/kaggle/working/model\")"
   ]
  },
  {
   "cell_type": "code",
   "execution_count": null,
   "metadata": {
    "execution": {
     "iopub.execute_input": "2022-05-13T10:36:06.503140Z",
     "iopub.status.busy": "2022-05-13T10:36:06.502871Z"
    }
   },
   "outputs": [],
   "source": [
    "y_pred = model.predict(test_flow)\n",
    "y_pred\n"
   ]
  },
  {
   "cell_type": "code",
   "execution_count": 10,
   "metadata": {
    "execution": {
     "iopub.execute_input": "2022-05-13T10:26:51.205223Z",
     "iopub.status.busy": "2022-05-13T10:26:51.204848Z",
     "iopub.status.idle": "2022-05-13T10:26:51.860020Z",
     "shell.execute_reply": "2022-05-13T10:26:51.859273Z",
     "shell.execute_reply.started": "2022-05-13T10:26:51.205190Z"
    }
   },
   "outputs": [],
   "source": [
    "import matplotlib.pyplot as plt\n",
    "import seaborn as sns\n",
    "from sklearn import metrics"
   ]
  },
  {
   "cell_type": "code",
   "execution_count": 11,
   "metadata": {
    "execution": {
     "iopub.execute_input": "2022-05-13T10:26:51.862662Z",
     "iopub.status.busy": "2022-05-13T10:26:51.862380Z",
     "iopub.status.idle": "2022-05-13T10:26:51.867214Z",
     "shell.execute_reply": "2022-05-13T10:26:51.866467Z",
     "shell.execute_reply.started": "2022-05-13T10:26:51.862605Z"
    }
   },
   "outputs": [],
   "source": [
    "y_test = test_flow.class_names"
   ]
  },
  {
   "cell_type": "code",
   "execution_count": 12,
   "metadata": {
    "execution": {
     "iopub.execute_input": "2022-05-13T10:26:51.868911Z",
     "iopub.status.busy": "2022-05-13T10:26:51.868664Z",
     "iopub.status.idle": "2022-05-13T10:26:52.363902Z",
     "shell.execute_reply": "2022-05-13T10:26:52.363250Z",
     "shell.execute_reply.started": "2022-05-13T10:26:51.868877Z"
    }
   },
   "outputs": [],
   "source": [
    "fig, ax = plt.subplots(1, 4, figsize=(20, 3))\n",
    "ax = ax.ravel()\n",
    "\n",
    "for i, met in enumerate([ \"accuracy\", \"loss\"]):\n",
    "    ax[i].plot(hist.history[met])\n",
    "    ax[i].plot(hist.history[\"val_\" + met])\n",
    "    ax[i].set_title(\"Model {}\".format(met))\n",
    "    ax[i].set_xlabel(\"epochs\")\n",
    "    ax[i].set_ylabel(met)\n",
    "    ax[i].legend([\"train\", \"val\"])"
   ]
  },
  {
   "cell_type": "code",
   "execution_count": 13,
   "metadata": {
    "execution": {
     "iopub.execute_input": "2022-05-13T10:26:52.365472Z",
     "iopub.status.busy": "2022-05-13T10:26:52.365232Z",
     "iopub.status.idle": "2022-05-13T10:26:52.550655Z",
     "shell.execute_reply": "2022-05-13T10:26:52.550024Z",
     "shell.execute_reply.started": "2022-05-13T10:26:52.365437Z"
    }
   },
   "outputs": [],
   "source": [
    "plt.plot(hist.history[\"accuracy\"])\n",
    "plt.plot(hist.history[\"val_accuracy\"])\n",
    "plt.title(\"Model accuracy\")\n",
    "plt.ylabel(\"Accuracy\")\n",
    "plt.xlabel(\"Epoch\")\n",
    "plt.legend([\"Train\", \"Test\"])\n",
    "plt.show()"
   ]
  },
  {
   "cell_type": "code",
   "execution_count": 14,
   "metadata": {
    "execution": {
     "iopub.execute_input": "2022-05-13T10:26:52.552176Z",
     "iopub.status.busy": "2022-05-13T10:26:52.551931Z",
     "iopub.status.idle": "2022-05-13T10:26:52.555769Z",
     "shell.execute_reply": "2022-05-13T10:26:52.554775Z",
     "shell.execute_reply.started": "2022-05-13T10:26:52.552143Z"
    }
   },
   "outputs": [],
   "source": [
    "# test_flow\n",
    "# model.evaluate(test_flow)"
   ]
  },
  {
   "cell_type": "code",
   "execution_count": 2,
   "metadata": {},
   "outputs": [],
   "source": [
    "model = models.load_model('./models')"
   ]
  },
  {
   "cell_type": "code",
   "execution_count": 20,
   "metadata": {},
   "outputs": [],
   "source": [
    "input_arr = []\n",
    "count = 0\n",
    "# for filename in os.listdir(\"./input/real_vs_fake/real-vs-fake/test/fake\"):\n",
    "#     if (count == 15):\n",
    "#         break\n",
    "f = os.path.join(\"./input/real_vs_fake/real-vs-fake/test/real\", \"58289.jpg\")\n",
    "image = preprocessing.image.load_img(\n",
    "    f, grayscale=False, color_mode=\"rgb\", target_size=(224, 224, 3), interpolation=\"nearest\"\n",
    ")\n",
    "i = preprocessing.image.img_to_array(image)\n",
    "    # input_arr.append(i)\n",
    "    # count = count + 1\n",
    "\n",
    "input_arr = np.array([i])\n"
   ]
  },
  {
   "cell_type": "code",
   "execution_count": 21,
   "metadata": {},
   "outputs": [
    {
     "data": {
      "text/plain": [
       "array([[0.95528626]], dtype=float32)"
      ]
     },
     "execution_count": 21,
     "metadata": {},
     "output_type": "execute_result"
    }
   ],
   "source": [
    "predictions = model.predict(input_arr)\n",
    "predictions"
   ]
  },
  {
   "cell_type": "code",
   "execution_count": null,
   "metadata": {},
   "outputs": [],
   "source": []
  }
 ],
 "metadata": {
  "kernelspec": {
   "display_name": "Python 3 (ipykernel)",
   "language": "python",
   "name": "python3"
  },
  "language_info": {
   "codemirror_mode": {
    "name": "ipython",
    "version": 3
   },
   "file_extension": ".py",
   "mimetype": "text/x-python",
   "name": "python",
   "nbconvert_exporter": "python",
   "pygments_lexer": "ipython3",
   "version": "3.10.4"
  }
 },
 "nbformat": 4,
 "nbformat_minor": 4
}
